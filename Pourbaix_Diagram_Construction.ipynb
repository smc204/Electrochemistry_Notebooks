{
 "cells": [
  {
   "cell_type": "code",
   "execution_count": 1,
   "metadata": {},
   "outputs": [],
   "source": [
    "%matplotlib inline\n",
    "import numpy as np\n",
    "import math\n",
    "import scipy.constants as scipy_constants\n",
    "import matplotlib.pyplot as plt"
   ]
  },
  {
   "cell_type": "markdown",
   "metadata": {},
   "source": [
    "### Set up axes\n",
    "\n",
    "A Pourbaix diagram is a plot of the thermodynamically stable species as a function of pH and $E$."
   ]
  },
  {
   "cell_type": "code",
   "execution_count": 82,
   "metadata": {},
   "outputs": [],
   "source": [
    "pH = np.arange(-1.5,15.5,0.1)\n",
    "E = np.arange(-4,3,0.1)"
   ]
  },
  {
   "cell_type": "markdown",
   "metadata": {},
   "source": [
    "### Constants\n",
    "\n",
    "Faraday constant: \n",
    "\n",
    "$F = 96485\\,\\mathrm{C\\,mol^{-1}}$\n",
    "\n",
    "Ideal gas constant:\n",
    "\n",
    "$R = 8.314 \\mathrm{J\\,K^{-1}\\,mol^{-1}}$\n",
    "\n",
    "Temperature:\n",
    "\n",
    "$T = 298.15 \\,\\mathrm{K}$"
   ]
  },
  {
   "cell_type": "code",
   "execution_count": 83,
   "metadata": {},
   "outputs": [],
   "source": [
    "F = scipy_constants.physical_constants['Faraday constant'][0]\n",
    "R = scipy_constants.physical_constants['molar gas constant'][0]\n",
    "T = 298.15"
   ]
  },
  {
   "cell_type": "markdown",
   "metadata": {},
   "source": [
    "### Nernst equation\n",
    "\n",
    "$E = E^{\\circ} - \\frac{RT}{nF}\\mathrm{ln}(Q)$\n",
    "\n",
    "At $298.15 \\,\\mathrm{K}$:\n",
    "\n",
    "$E = E^{\\circ} - \\frac{RT}{nF}\\mathrm{ln}(Q)$\n",
    "\n",
    "Logarithms - change of base:\n",
    "\n",
    "$ \\mathrm{log}_{10}(Q) = \\frac{\\mathrm{log}_{e}(Q)}{\\mathrm{log}_{e}(10)}$\n",
    "\n",
    "$\\mathrm{ln}(Q) = \\mathrm{log}_{10}(Q) \\times \\mathrm{ln}(10)$\n",
    "\n",
    "$E = E^{\\circ} - \\frac{0.0592}{n}\\mathrm{log}_{10}(Q)$"
   ]
  },
  {
   "cell_type": "code",
   "execution_count": 84,
   "metadata": {},
   "outputs": [],
   "source": [
    "ln_to_log10 = math.log(10,np.exp(1))"
   ]
  },
  {
   "cell_type": "code",
   "execution_count": 85,
   "metadata": {},
   "outputs": [
    {
     "data": {
      "text/plain": [
       "0.05915934968572151"
      ]
     },
     "execution_count": 85,
     "metadata": {},
     "output_type": "execute_result"
    }
   ],
   "source": [
    "Nernst_prefactor = (R*T/F)*ln_to_log10\n",
    "Nernst_prefactor"
   ]
  },
  {
   "cell_type": "markdown",
   "metadata": {},
   "source": [
    "### Water stability lines\n",
    "\n",
    "Oxygen evolution reaction (OER):  \n",
    "\n",
    "$2H_{2}O(l) \\rightarrow O_{2}(g)+4H^{+}(aq)+4e^{-} \\quad \\quad \\, \\, \\, \\,E^{\\circ}=1.23 \\, \\mathrm{V\\, vs. \\,NHE} $\n",
    "\n",
    "Hydrogen evolution reaction (HER):\n",
    "\n",
    "$ 2H^{+} +2e^{-} \\rightarrow H_{2}(g) \\quad \\quad \\quad \\quad \\quad \\quad \\quad \\quad E^{\\circ}=0.00 \\, \\mathrm{V\\, vs. \\,NHE} $ "
   ]
  },
  {
   "cell_type": "code",
   "execution_count": 86,
   "metadata": {},
   "outputs": [],
   "source": [
    "E_OER = 1.23 -  Nernst_prefactor*pH\n",
    "E_HER = 0.00 - Nernst_prefactor*pH"
   ]
  },
  {
   "cell_type": "markdown",
   "metadata": {},
   "source": [
    "#### Plot the stability lines as a function of pH and potential\n",
    "\n",
    "The pH is plotted on the horizontal axis. $E$ is plotted on the vertical axis.\n"
   ]
  },
  {
   "cell_type": "code",
   "execution_count": 102,
   "metadata": {},
   "outputs": [
    {
     "data": {
      "image/png": "[encoded data removed]",
      "text/plain": [
       "<Figure size 432x360 with 1 Axes>"
      ]
     },
     "metadata": {
      "needs_background": "light"
     },
     "output_type": "display_data"
    }
   ],
   "source": [
    "font_size = 16\n",
    "plt.figure(figsize=(6,5))\n",
    "plt.plot(pH,E_OER,linestyle='dashed',color='royalblue',label='OER',)\n",
    "plt.plot(pH,E_HER,linestyle='dashed',color='mediumblue',label='HER',)\n",
    "plt.xlabel('pH',fontsize=font_size)\n",
    "plt.ylabel('$E$ / V vs. NHE',fontsize=font_size)\n",
    "plt.annotate('$ O_{2}(g)$',(6,1.5),fontsize=font_size)\n",
    "plt.annotate('$ H_{2}O(l)$',(6,0.),fontsize=font_size)\n",
    "plt.annotate('$ H_{2}(g)$',(6,-2),fontsize=font_size)\n",
    "plt.xlim(np.min(pH),np.max(pH))\n",
    "plt.ylim(np.min(E),np.max(E))\n",
    "plt.legend()\n",
    "plt.tight_layout()\n",
    "plt.show()"
   ]
  },
  {
   "cell_type": "markdown",
   "metadata": {},
   "source": [
    "### Mg oxidation lines\n"
   ]
  },
  {
   "cell_type": "markdown",
   "metadata": {},
   "source": [
    "#### Three possible reactions"
   ]
  },
  {
   "cell_type": "markdown",
   "metadata": {},
   "source": [
    "$Mg(OH)_{2}(s) + 2H^{+}(aq) \\rightarrow Mg^{2+}(aq)+2H_{2}O(l) \\quad \\: \\, \\, \\, \\Delta G^\\circ = -95.7\\,\\mathrm{kJ} \\quad \\, \\, \\, \\, \\,(1) $\n",
    "\n",
    "$Mg^{2+}(aq)+2e^{-}\\rightarrow Mg(s) \\quad \\quad \\quad \\quad \\quad \\quad \\quad \\quad \\quad \\quad \\, \\Delta G^\\circ = 454.8\\,\\mathrm{kJ} \\quad \\quad (2) $\n",
    "\n",
    "$Mg(OH)_{2}(s)+2H^{+}+2e^{-} \\rightarrow Mg(s) + 2H_{2}O(l)\\quad \\quad \\Delta G^\\circ = 359.1\\,\\mathrm{kJ} \\quad \\quad (3) $"
   ]
  },
  {
   "cell_type": "code",
   "execution_count": 89,
   "metadata": {},
   "outputs": [],
   "source": [
    "dG_1 = -95.7\n",
    "dG_2 = 454.8\n",
    "dG_3 = 359.1"
   ]
  },
  {
   "cell_type": "code",
   "execution_count": 90,
   "metadata": {},
   "outputs": [],
   "source": [
    "log_10_K_eq_1 = (dG_1/(-1*R*T*ln_to_log10/1000))"
   ]
  },
  {
   "cell_type": "markdown",
   "metadata": {},
   "source": [
    "#### Set activity of Mg ions\n",
    "Considered here under the assumption of activity coefficients near unity (taken as concentrations)"
   ]
  },
  {
   "cell_type": "code",
   "execution_count": 91,
   "metadata": {},
   "outputs": [
    {
     "data": {
      "text/plain": [
       "0.001"
      ]
     },
     "execution_count": 91,
     "metadata": {},
     "output_type": "execute_result"
    }
   ],
   "source": [
    "activity_Mg_ions = 1.e-3\n",
    "activity_Mg_ions"
   ]
  },
  {
   "cell_type": "markdown",
   "metadata": {},
   "source": [
    "#### Reaction 1"
   ]
  },
  {
   "cell_type": "markdown",
   "metadata": {},
   "source": [
    "$Mg(OH)_{2}(s) + 2H^{+}(aq) \\rightarrow Mg^{2+}(aq)+2H_{2}O(l) \\quad \\: \\, \\, \\, \\Delta G^\\circ = -95.7\\,\\mathrm{kJ} \\quad \\, \\, \\, \\, \\,(1) $\n",
    "\n",
    "$\\Delta G^\\circ = -RT ln(K_{eq})$\n",
    "\n",
    "$ \\mathrm{log}_{10}(K_{eq}) =  \\Delta G^\\circ/(-5.7 \\,\\mathrm{kJ}) \\quad \\mathrm{at}\\,\\,\\,T = 298.15 \\,\\mathrm{K}$\n",
    "\n",
    "$K_{eq} = [Mg^{2+}]/[H^{+}]^{2}$\n",
    "\n",
    "$[H^{+}]^{2} = [Mg^{2+}]/K_{eq}$\n",
    "\n",
    "$\\mathrm{log}_{10}([H^{+}]^{2}) = \\mathrm{log}_{10}([Mg^{2+}/K_{eq})$\n",
    "\n",
    "$\\mathrm{pH} = -\\mathrm{log}_{10}[H^{+}]$\n",
    "\n",
    "$-2 \\, \\mathrm{pH} = \\mathrm{log}_{10}([Mg^{2+}])-\\mathrm{log}_{10}(K_{eq})$\n",
    "\n",
    "$ \\mathrm{pH} = \\frac{\\mathrm{log}_{10}(K_{eq})-\\mathrm{log}_{10}([Mg^{2+}])}{2}$\n",
    "\n"
   ]
  },
  {
   "cell_type": "code",
   "execution_count": 92,
   "metadata": {},
   "outputs": [
    {
     "data": {
      "text/plain": [
       "16.765914625625246"
      ]
     },
     "execution_count": 92,
     "metadata": {},
     "output_type": "execute_result"
    }
   ],
   "source": [
    "log_10_K_eq_1"
   ]
  },
  {
   "cell_type": "code",
   "execution_count": 93,
   "metadata": {},
   "outputs": [],
   "source": [
    "Line_1 = (log_10_K_eq_1 - math.log(activity_Mg_ions,10))/2"
   ]
  },
  {
   "cell_type": "markdown",
   "metadata": {},
   "source": [
    "#### Reaction 2\n",
    "\n",
    "$Mg^{2+}(aq)+2e^{-}\\rightarrow Mg(s) \\quad \\quad \\quad \\quad \\quad \\quad \\quad \\quad \\quad \\quad \\, \\Delta G^\\circ = 454.8\\,\\mathrm{kJ} \\quad \\quad (2) $\n",
    "\n",
    "$\\Delta G = -nFE$\n",
    "\n",
    "$E^\\circ = -\\frac{\\Delta G^\\circ}{nF}$\n",
    "\n",
    "$E = E^{\\circ} - \\frac{0.0592}{n}\\mathrm{log}_{10}(Q)$\n",
    "\n",
    "$E = E^{\\circ} - \\frac{0.0592}{2}\\mathrm{log}_{10}(\\frac{1}{[Mg^{2+}]})$\n",
    "\n",
    "$E = E^{\\circ} + \\frac{0.0592}{2}\\mathrm{log}_{10}([Mg^{2+}])$"
   ]
  },
  {
   "cell_type": "code",
   "execution_count": 94,
   "metadata": {},
   "outputs": [
    {
     "data": {
      "text/plain": [
       "-2.3568349199148715"
      ]
     },
     "execution_count": 94,
     "metadata": {},
     "output_type": "execute_result"
    }
   ],
   "source": [
    "n_2 = 2\n",
    "E_2 = dG_2/(-1*F*n_2)*1000\n",
    "Line_2 = E_2 + (Nernst_prefactor/2)*math.log(activity_Mg_ions,10)\n",
    "E_2"
   ]
  },
  {
   "cell_type": "markdown",
   "metadata": {},
   "source": [
    "#### Reaction 3\n",
    "\n",
    "$Mg(OH)_{2}(s)+2H^{+}+2e^{-} \\rightarrow Mg(s) + 2H_{2}O(l)\\quad \\quad \\Delta G^\\circ = 359.1\\,\\mathrm{kJ} \\quad \\quad (3) $\n",
    "\n",
    "$\\Delta G = -nFE$\n",
    "\n",
    "$E^\\circ = -\\frac{\\Delta G^\\circ}{nF}$\n",
    "\n",
    "$E = E^{\\circ} - \\frac{0.0592}{n}\\mathrm{log}_{10}(Q)$\n",
    "\n",
    "$E = E^{\\circ} - \\frac{0.0592}{2}\\mathrm{log}_{10}(\\frac{1}{[H^{+}]^{2}})$\n",
    "\n",
    "$E = E^{\\circ} + \\frac{0.0592}{2}\\mathrm{log}_{10}({[H^{+}]^{2}})$\n",
    "\n",
    "$E = E^{\\circ} + \\frac{(2)(0.0592)}{2}\\mathrm{log}_{10}({[H^{+}]})$\n",
    "\n",
    "$\\mathrm{pH} = -\\mathrm{log}_{10}[H^{+}]$\n",
    "\n",
    "$E = E^{\\circ} + \\frac{(2)(0.0592)}{2}\\mathrm{log}_{10}({[H^{+}]})$\n",
    "\n",
    "$E = E^{\\circ} - 0.0592\\,\\mathrm{pH}$\n"
   ]
  },
  {
   "cell_type": "code",
   "execution_count": 95,
   "metadata": {},
   "outputs": [
    {
     "data": {
      "text/plain": [
       "-1.8609046168457135"
      ]
     },
     "execution_count": 95,
     "metadata": {},
     "output_type": "execute_result"
    }
   ],
   "source": [
    "n_3 = 2\n",
    "E_3 = dG_3/(-1*F*n_3)*1000\n",
    "Line_3 = E_3-Nernst_prefactor*pH\n",
    "E_3"
   ]
  },
  {
   "cell_type": "markdown",
   "metadata": {},
   "source": [
    "#### Plot three lines\n",
    "And water stability window"
   ]
  },
  {
   "cell_type": "code",
   "execution_count": 101,
   "metadata": {},
   "outputs": [
    {
     "data": {
      "image/png": "[encoded data removed]",
      "text/plain": [
       "<Figure size 432x360 with 1 Axes>"
      ]
     },
     "metadata": {
      "needs_background": "light"
     },
     "output_type": "display_data"
    }
   ],
   "source": [
    "font_size = 16\n",
    "plt.figure(figsize=(6,5))\n",
    "plt.plot(pH,E_OER,linestyle='dashed',color='royalblue',label='OER',)\n",
    "plt.plot(pH,E_HER,linestyle='dashed',color='mediumblue',label='HER',)\n",
    "plt.axvline(x=Line_1,linewidth=2,color='maroon',label='$Mg(OH)_2/Mg^{2+}$')\n",
    "plt.axhline(y=Line_2,linewidth=2,color='red',label='$Mg^{2+}/Mg$')\n",
    "plt.plot(pH,Line_3,linewidth=2,color='tomato',label='$Mg(OH)_2/Mg$')\n",
    "plt.xlabel('pH',fontsize=font_size)\n",
    "plt.ylabel('$E$ / V vs. NHE',fontsize=font_size)\n",
    "plt.xlim(np.min(pH),np.max(pH))\n",
    "plt.ylim(np.min(E),np.max(E))\n",
    "plt.legend()\n",
    "plt.tight_layout()\n",
    "plt.show()"
   ]
  },
  {
   "cell_type": "markdown",
   "metadata": {},
   "source": [
    "#### Retain only lines at lowest potential\n",
    "\n",
    "At potentials more negative than a potential $E$ for a given redox couple the reduces species is thermodynamically favoured. \n",
    "\n",
    "Conversely, at potentials $E$ more positive than this boundary, the reduced species will not be stable.\n",
    "\n",
    "For example:\n",
    "\n",
    "At pH = 14, $Mg(s)$ will not be stable above the line given by the $Mg(OH)_{2}/Mg$ couple. It will be oxidised to $Mg(OH)_{2}(s)$ following Reaction 2.\n",
    "\n",
    "At pH = 0, $Mg(OH)_{2}(s)$ will not be stable. It will be converted to $Mg^{2+}(aq)$ following Reaction 1.\n",
    "\n"
   ]
  },
  {
   "cell_type": "code",
   "execution_count": 107,
   "metadata": {},
   "outputs": [
    {
     "data": {
      "image/png": "[encoded data removed]",
      "text/plain": [
       "<Figure size 432x360 with 1 Axes>"
      ]
     },
     "metadata": {
      "needs_background": "light"
     },
     "output_type": "display_data"
    }
   ],
   "source": [
    "font_size = 16\n",
    "plt.figure(figsize=(6,5))\n",
    "plt.plot(pH,E_OER,linestyle='dashed',color='royalblue',label='OER',)\n",
    "plt.plot(pH,E_HER,linestyle='dashed',color='mediumblue',label='HER',)\n",
    "plt.vlines(x=Line_1,ymin=Line_2,ymax=np.max(E),linewidth=2,color='red')\n",
    "plt.hlines(y=Line_2,xmin=np.min(pH),xmax=Line_1,linewidth=2,color='red')\n",
    "plt.plot(pH[Line_3<Line_2],Line_3[Line_3<Line_2],linewidth=2,color='red')\n",
    "plt.xlabel('pH',fontsize=font_size)\n",
    "plt.ylabel('$E$ / V vs. NHE',fontsize=font_size)\n",
    "plt.xlim(np.min(pH),np.max(pH))\n",
    "plt.ylim(np.min(E),np.max(E))\n",
    "plt.annotate('$Mg^{2+}(aq)$',(4,0.1),fontsize=font_size)\n",
    "plt.annotate('$Mg(OH)_{2}(s)$',(10.5,-0.2),fontsize=font_size)\n",
    "plt.annotate('$Mg(s)$',(7,-3.5),fontsize=font_size)\n",
    "plt.legend()\n",
    "plt.tight_layout()\n",
    "plt.show()"
   ]
  },
  {
   "cell_type": "markdown",
   "metadata": {},
   "source": [
    "### Plotting for different activities of ions \n",
    "Gathered in a single plot. A set of functions is defined first which can be used to calculate a list of dissolved ion activities."
   ]
  },
  {
   "cell_type": "code",
   "execution_count": 108,
   "metadata": {},
   "outputs": [],
   "source": [
    "def generate_Mg_Pourbaix(activity,T=298.15):\n",
    "    F = scipy_constants.physical_constants['Faraday constant'][0]\n",
    "    R = scipy_constants.physical_constants['molar gas constant'][0]\n",
    "    ln_to_log10 = math.log(10,np.exp(1))\n",
    "\n",
    "    dG_1 = -95.7\n",
    "    dG_2 = 454.8\n",
    "    dG_3 = 359.1\n",
    "    log_10_K_eq_1 = (dG_1/(-1*R*T*ln_to_log10/1000))\n",
    "    Line_1 = (log_10_K_eq_1 - math.log(activity,10))/2\n",
    "    n_2 = 2\n",
    "    E_2 = dG_2/(-1*F*n_2)*1000\n",
    "    Line_2 = E_2 + (Nernst_prefactor/2)*math.log(activity,10)\n",
    "    n_3 = 2\n",
    "    E_3 = dG_3/(-1*F*n_3)*1000\n",
    "    Line_3 = E_3-Nernst_prefactor*pH\n",
    "    return [Line_1, Line_2, Line_3]\n",
    "\n",
    "def plot_Mg_Pourbaix(Lines,color_select='red'):\n",
    "    Line_1 = Lines[0]\n",
    "    Line_2 = Lines[1]\n",
    "    Line_3 = Lines[2]\n",
    "    font_size = 16\n",
    "    plt.vlines(x=Line_1,ymin=Line_2,ymax=np.max(E),linewidth=2,color=color_select)\n",
    "    plt.hlines(y=Line_2,xmin=np.min(pH),xmax=Line_1,linewidth=2,color=color_select)\n",
    "    plt.plot(pH[Line_3<Line_2][pH[Line_3<Line_2]>Line_1],Line_3[Line_3<Line_2][pH[Line_3<Line_2]>Line_1],linewidth=2,color=color_select)\n",
    "    plt.xlabel('pH',fontsize=font_size)\n",
    "    plt.ylabel('$E$ / V vs. NHE',fontsize=font_size)\n",
    "    plt.xlim(np.min(pH),np.max(pH))\n",
    "    plt.ylim(np.min(E),np.max(E))\n",
    "    plt.legend()\n",
    "    plt.tight_layout()\n",
    "    return\n",
    "\n",
    "def plot_multiple_Mg_Pourbaix(activity_list,color_list):\n",
    "    plt.figure(figsize=(6,5))\n",
    "    plt.plot(pH,E_OER,linestyle='dashed',color='royalblue',label='OER',)\n",
    "    plt.plot(pH,E_HER,linestyle='dashed',color='mediumblue',label='HER',)\n",
    "    for i in range(0,len(activity_list)):\n",
    "        plot_Mg_Pourbaix(generate_Mg_Pourbaix(activity_list[i]),color_select=color_list[i])\n",
    "        plt.annotate('$10^{x} \\, \\mathrm{M}$'.replace('x',\"{:,.0f}\".format(math.log(activity_list[i],10))),(0,-1-i/2),color=color_list[i],fontsize=14,weight='bold')\n",
    "    plt.show()\n",
    "    return"
   ]
  },
  {
   "cell_type": "code",
   "execution_count": 109,
   "metadata": {},
   "outputs": [
    {
     "data": {
      "image/png": "[encoded data removed]",
      "text/plain": [
       "<Figure size 432x360 with 1 Axes>"
      ]
     },
     "metadata": {
      "needs_background": "light"
     },
     "output_type": "display_data"
    }
   ],
   "source": [
    "activity_list = [1e-2,1e-7,1e-12]\n",
    "color_list = ['red','deepskyblue','indigo']\n",
    "\n",
    "plot_multiple_Mg_Pourbaix(activity_list,color_list)"
   ]
  },
  {
   "cell_type": "code",
   "execution_count": null,
   "metadata": {},
   "outputs": [],
   "source": []
  }
 ],
 "metadata": {
  "kernelspec": {
   "display_name": "Python [conda env:root] *",
   "language": "python",
   "name": "conda-root-py"
  },
  "language_info": {
   "codemirror_mode": {
    "name": "ipython",
    "version": 3
   },
   "file_extension": ".py",
   "mimetype": "text/x-python",
   "name": "python",
   "nbconvert_exporter": "python",
   "pygments_lexer": "ipython3",
   "version": "3.7.6"
  }
 },
 "nbformat": 4,
 "nbformat_minor": 4
}
